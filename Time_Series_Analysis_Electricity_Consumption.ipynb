{
  "cells": [
    {
      "cell_type": "markdown",
      "metadata": {
        "id": "view-in-github",
        "colab_type": "text"
      },
      "source": [
        "<a href=\"https://colab.research.google.com/github/olusegunadelowo/Forecasting-Household-Electricity-Consumption-with-Time-Series-Model/blob/main/Time_Series_Analysis_Electricity_Consumption.ipynb\" target=\"_parent\"><img src=\"https://colab.research.google.com/assets/colab-badge.svg\" alt=\"Open In Colab\"/></a>"
      ]
    },
    {
      "cell_type": "markdown",
      "metadata": {
        "id": "yr2ySxAQ1AJg"
      },
      "source": [
        "# 1.  Import Libraries"
      ]
    },
    {
      "cell_type": "code",
      "execution_count": 3,
      "metadata": {
        "id": "0BNyp5r01AJu"
      },
      "outputs": [],
      "source": [
        "import pandas as pd\n",
        "import numpy as np\n",
        "import matplotlib.pyplot as plt\n",
        "import seaborn as sn\n",
        "import plotly.express as px\n",
        "from sklearn.linear_model import LinearRegression\n",
        "from sklearn.impute import SimpleImputer\n",
        "from sklearn.linear_model import Ridge\n",
        "from sklearn.pipeline import make_pipeline\n",
        "from sklearn.metrics import mean_absolute_error"
      ]
    },
    {
      "cell_type": "markdown",
      "metadata": {
        "id": "4dWPwbhf1AJw"
      },
      "source": [
        "# 2. Import Dataset"
      ]
    },
    {
      "cell_type": "code",
      "source": [
        "#Mounting the content of google drive (the content includes our dataset)\n",
        "from google.colab import drive\n",
        "\n",
        "drive.mount('/content/gdrive')"
      ],
      "metadata": {
        "colab": {
          "base_uri": "https://localhost:8080/"
        },
        "id": "A9kgW5Jm1FzZ",
        "outputId": "2b82c975-d2bf-448d-886e-a0140e6497ee"
      },
      "execution_count": 1,
      "outputs": [
        {
          "output_type": "stream",
          "name": "stdout",
          "text": [
            "Mounted at /content/gdrive\n"
          ]
        }
      ]
    },
    {
      "cell_type": "code",
      "source": [
        "#importing the dataset from google drive\n",
        "Energy_data = pd.read_csv(\"/content/gdrive/MyDrive/Data Science Projects/hamoyeInternship/Stage E - Time Series /household_power_consumption.csv\",\n",
        "                           sep=';', low_memory=False)"
      ],
      "metadata": {
        "id": "-pJXVbrh1F_g"
      },
      "execution_count": 10,
      "outputs": []
    },
    {
      "cell_type": "markdown",
      "metadata": {
        "id": "A61BvHkz1AJy"
      },
      "source": [
        "# 3. Data Wrangling"
      ]
    },
    {
      "cell_type": "code",
      "execution_count": 11,
      "metadata": {
        "colab": {
          "base_uri": "https://localhost:8080/",
          "height": 289
        },
        "id": "jshC1G6G1AJy",
        "outputId": "a52f5905-3845-445d-d099-51587d6b3b1b"
      },
      "outputs": [
        {
          "output_type": "execute_result",
          "data": {
            "text/plain": [
              "         Date      Time Global_active_power Global_reactive_power  Voltage  \\\n",
              "0  16/12/2006  17:24:00               4.216                 0.418  234.840   \n",
              "1  16/12/2006  17:25:00               5.360                 0.436  233.630   \n",
              "2  16/12/2006  17:26:00               5.374                 0.498  233.290   \n",
              "3  16/12/2006  17:27:00               5.388                 0.502  233.740   \n",
              "4  16/12/2006  17:28:00               3.666                 0.528  235.680   \n",
              "5  16/12/2006  17:29:00               3.520                 0.522  235.020   \n",
              "6  16/12/2006  17:30:00               3.702                 0.520  235.090   \n",
              "\n",
              "  Global_intensity Sub_metering_1 Sub_metering_2  Sub_metering_3  \n",
              "0           18.400          0.000          1.000            17.0  \n",
              "1           23.000          0.000          1.000            16.0  \n",
              "2           23.000          0.000          2.000            17.0  \n",
              "3           23.000          0.000          1.000            17.0  \n",
              "4           15.800          0.000          1.000            17.0  \n",
              "5           15.000          0.000          2.000            17.0  \n",
              "6           15.800          0.000          1.000            17.0  "
            ],
            "text/html": [
              "\n",
              "  <div id=\"df-4d538dec-84e1-4796-86cc-208af5e7cd36\" class=\"colab-df-container\">\n",
              "    <div>\n",
              "<style scoped>\n",
              "    .dataframe tbody tr th:only-of-type {\n",
              "        vertical-align: middle;\n",
              "    }\n",
              "\n",
              "    .dataframe tbody tr th {\n",
              "        vertical-align: top;\n",
              "    }\n",
              "\n",
              "    .dataframe thead th {\n",
              "        text-align: right;\n",
              "    }\n",
              "</style>\n",
              "<table border=\"1\" class=\"dataframe\">\n",
              "  <thead>\n",
              "    <tr style=\"text-align: right;\">\n",
              "      <th></th>\n",
              "      <th>Date</th>\n",
              "      <th>Time</th>\n",
              "      <th>Global_active_power</th>\n",
              "      <th>Global_reactive_power</th>\n",
              "      <th>Voltage</th>\n",
              "      <th>Global_intensity</th>\n",
              "      <th>Sub_metering_1</th>\n",
              "      <th>Sub_metering_2</th>\n",
              "      <th>Sub_metering_3</th>\n",
              "    </tr>\n",
              "  </thead>\n",
              "  <tbody>\n",
              "    <tr>\n",
              "      <th>0</th>\n",
              "      <td>16/12/2006</td>\n",
              "      <td>17:24:00</td>\n",
              "      <td>4.216</td>\n",
              "      <td>0.418</td>\n",
              "      <td>234.840</td>\n",
              "      <td>18.400</td>\n",
              "      <td>0.000</td>\n",
              "      <td>1.000</td>\n",
              "      <td>17.0</td>\n",
              "    </tr>\n",
              "    <tr>\n",
              "      <th>1</th>\n",
              "      <td>16/12/2006</td>\n",
              "      <td>17:25:00</td>\n",
              "      <td>5.360</td>\n",
              "      <td>0.436</td>\n",
              "      <td>233.630</td>\n",
              "      <td>23.000</td>\n",
              "      <td>0.000</td>\n",
              "      <td>1.000</td>\n",
              "      <td>16.0</td>\n",
              "    </tr>\n",
              "    <tr>\n",
              "      <th>2</th>\n",
              "      <td>16/12/2006</td>\n",
              "      <td>17:26:00</td>\n",
              "      <td>5.374</td>\n",
              "      <td>0.498</td>\n",
              "      <td>233.290</td>\n",
              "      <td>23.000</td>\n",
              "      <td>0.000</td>\n",
              "      <td>2.000</td>\n",
              "      <td>17.0</td>\n",
              "    </tr>\n",
              "    <tr>\n",
              "      <th>3</th>\n",
              "      <td>16/12/2006</td>\n",
              "      <td>17:27:00</td>\n",
              "      <td>5.388</td>\n",
              "      <td>0.502</td>\n",
              "      <td>233.740</td>\n",
              "      <td>23.000</td>\n",
              "      <td>0.000</td>\n",
              "      <td>1.000</td>\n",
              "      <td>17.0</td>\n",
              "    </tr>\n",
              "    <tr>\n",
              "      <th>4</th>\n",
              "      <td>16/12/2006</td>\n",
              "      <td>17:28:00</td>\n",
              "      <td>3.666</td>\n",
              "      <td>0.528</td>\n",
              "      <td>235.680</td>\n",
              "      <td>15.800</td>\n",
              "      <td>0.000</td>\n",
              "      <td>1.000</td>\n",
              "      <td>17.0</td>\n",
              "    </tr>\n",
              "    <tr>\n",
              "      <th>5</th>\n",
              "      <td>16/12/2006</td>\n",
              "      <td>17:29:00</td>\n",
              "      <td>3.520</td>\n",
              "      <td>0.522</td>\n",
              "      <td>235.020</td>\n",
              "      <td>15.000</td>\n",
              "      <td>0.000</td>\n",
              "      <td>2.000</td>\n",
              "      <td>17.0</td>\n",
              "    </tr>\n",
              "    <tr>\n",
              "      <th>6</th>\n",
              "      <td>16/12/2006</td>\n",
              "      <td>17:30:00</td>\n",
              "      <td>3.702</td>\n",
              "      <td>0.520</td>\n",
              "      <td>235.090</td>\n",
              "      <td>15.800</td>\n",
              "      <td>0.000</td>\n",
              "      <td>1.000</td>\n",
              "      <td>17.0</td>\n",
              "    </tr>\n",
              "  </tbody>\n",
              "</table>\n",
              "</div>\n",
              "    <div class=\"colab-df-buttons\">\n",
              "\n",
              "  <div class=\"colab-df-container\">\n",
              "    <button class=\"colab-df-convert\" onclick=\"convertToInteractive('df-4d538dec-84e1-4796-86cc-208af5e7cd36')\"\n",
              "            title=\"Convert this dataframe to an interactive table.\"\n",
              "            style=\"display:none;\">\n",
              "\n",
              "  <svg xmlns=\"http://www.w3.org/2000/svg\" height=\"24px\" viewBox=\"0 -960 960 960\">\n",
              "    <path d=\"M120-120v-720h720v720H120Zm60-500h600v-160H180v160Zm220 220h160v-160H400v160Zm0 220h160v-160H400v160ZM180-400h160v-160H180v160Zm440 0h160v-160H620v160ZM180-180h160v-160H180v160Zm440 0h160v-160H620v160Z\"/>\n",
              "  </svg>\n",
              "    </button>\n",
              "\n",
              "  <style>\n",
              "    .colab-df-container {\n",
              "      display:flex;\n",
              "      gap: 12px;\n",
              "    }\n",
              "\n",
              "    .colab-df-convert {\n",
              "      background-color: #E8F0FE;\n",
              "      border: none;\n",
              "      border-radius: 50%;\n",
              "      cursor: pointer;\n",
              "      display: none;\n",
              "      fill: #1967D2;\n",
              "      height: 32px;\n",
              "      padding: 0 0 0 0;\n",
              "      width: 32px;\n",
              "    }\n",
              "\n",
              "    .colab-df-convert:hover {\n",
              "      background-color: #E2EBFA;\n",
              "      box-shadow: 0px 1px 2px rgba(60, 64, 67, 0.3), 0px 1px 3px 1px rgba(60, 64, 67, 0.15);\n",
              "      fill: #174EA6;\n",
              "    }\n",
              "\n",
              "    .colab-df-buttons div {\n",
              "      margin-bottom: 4px;\n",
              "    }\n",
              "\n",
              "    [theme=dark] .colab-df-convert {\n",
              "      background-color: #3B4455;\n",
              "      fill: #D2E3FC;\n",
              "    }\n",
              "\n",
              "    [theme=dark] .colab-df-convert:hover {\n",
              "      background-color: #434B5C;\n",
              "      box-shadow: 0px 1px 3px 1px rgba(0, 0, 0, 0.15);\n",
              "      filter: drop-shadow(0px 1px 2px rgba(0, 0, 0, 0.3));\n",
              "      fill: #FFFFFF;\n",
              "    }\n",
              "  </style>\n",
              "\n",
              "    <script>\n",
              "      const buttonEl =\n",
              "        document.querySelector('#df-4d538dec-84e1-4796-86cc-208af5e7cd36 button.colab-df-convert');\n",
              "      buttonEl.style.display =\n",
              "        google.colab.kernel.accessAllowed ? 'block' : 'none';\n",
              "\n",
              "      async function convertToInteractive(key) {\n",
              "        const element = document.querySelector('#df-4d538dec-84e1-4796-86cc-208af5e7cd36');\n",
              "        const dataTable =\n",
              "          await google.colab.kernel.invokeFunction('convertToInteractive',\n",
              "                                                    [key], {});\n",
              "        if (!dataTable) return;\n",
              "\n",
              "        const docLinkHtml = 'Like what you see? Visit the ' +\n",
              "          '<a target=\"_blank\" href=https://colab.research.google.com/notebooks/data_table.ipynb>data table notebook</a>'\n",
              "          + ' to learn more about interactive tables.';\n",
              "        element.innerHTML = '';\n",
              "        dataTable['output_type'] = 'display_data';\n",
              "        await google.colab.output.renderOutput(dataTable, element);\n",
              "        const docLink = document.createElement('div');\n",
              "        docLink.innerHTML = docLinkHtml;\n",
              "        element.appendChild(docLink);\n",
              "      }\n",
              "    </script>\n",
              "  </div>\n",
              "\n",
              "\n",
              "<div id=\"df-94259e0e-5fa8-4ae9-8db2-bc61912429f9\">\n",
              "  <button class=\"colab-df-quickchart\" onclick=\"quickchart('df-94259e0e-5fa8-4ae9-8db2-bc61912429f9')\"\n",
              "            title=\"Suggest charts\"\n",
              "            style=\"display:none;\">\n",
              "\n",
              "<svg xmlns=\"http://www.w3.org/2000/svg\" height=\"24px\"viewBox=\"0 0 24 24\"\n",
              "     width=\"24px\">\n",
              "    <g>\n",
              "        <path d=\"M19 3H5c-1.1 0-2 .9-2 2v14c0 1.1.9 2 2 2h14c1.1 0 2-.9 2-2V5c0-1.1-.9-2-2-2zM9 17H7v-7h2v7zm4 0h-2V7h2v10zm4 0h-2v-4h2v4z\"/>\n",
              "    </g>\n",
              "</svg>\n",
              "  </button>\n",
              "\n",
              "<style>\n",
              "  .colab-df-quickchart {\n",
              "      --bg-color: #E8F0FE;\n",
              "      --fill-color: #1967D2;\n",
              "      --hover-bg-color: #E2EBFA;\n",
              "      --hover-fill-color: #174EA6;\n",
              "      --disabled-fill-color: #AAA;\n",
              "      --disabled-bg-color: #DDD;\n",
              "  }\n",
              "\n",
              "  [theme=dark] .colab-df-quickchart {\n",
              "      --bg-color: #3B4455;\n",
              "      --fill-color: #D2E3FC;\n",
              "      --hover-bg-color: #434B5C;\n",
              "      --hover-fill-color: #FFFFFF;\n",
              "      --disabled-bg-color: #3B4455;\n",
              "      --disabled-fill-color: #666;\n",
              "  }\n",
              "\n",
              "  .colab-df-quickchart {\n",
              "    background-color: var(--bg-color);\n",
              "    border: none;\n",
              "    border-radius: 50%;\n",
              "    cursor: pointer;\n",
              "    display: none;\n",
              "    fill: var(--fill-color);\n",
              "    height: 32px;\n",
              "    padding: 0;\n",
              "    width: 32px;\n",
              "  }\n",
              "\n",
              "  .colab-df-quickchart:hover {\n",
              "    background-color: var(--hover-bg-color);\n",
              "    box-shadow: 0 1px 2px rgba(60, 64, 67, 0.3), 0 1px 3px 1px rgba(60, 64, 67, 0.15);\n",
              "    fill: var(--button-hover-fill-color);\n",
              "  }\n",
              "\n",
              "  .colab-df-quickchart-complete:disabled,\n",
              "  .colab-df-quickchart-complete:disabled:hover {\n",
              "    background-color: var(--disabled-bg-color);\n",
              "    fill: var(--disabled-fill-color);\n",
              "    box-shadow: none;\n",
              "  }\n",
              "\n",
              "  .colab-df-spinner {\n",
              "    border: 2px solid var(--fill-color);\n",
              "    border-color: transparent;\n",
              "    border-bottom-color: var(--fill-color);\n",
              "    animation:\n",
              "      spin 1s steps(1) infinite;\n",
              "  }\n",
              "\n",
              "  @keyframes spin {\n",
              "    0% {\n",
              "      border-color: transparent;\n",
              "      border-bottom-color: var(--fill-color);\n",
              "      border-left-color: var(--fill-color);\n",
              "    }\n",
              "    20% {\n",
              "      border-color: transparent;\n",
              "      border-left-color: var(--fill-color);\n",
              "      border-top-color: var(--fill-color);\n",
              "    }\n",
              "    30% {\n",
              "      border-color: transparent;\n",
              "      border-left-color: var(--fill-color);\n",
              "      border-top-color: var(--fill-color);\n",
              "      border-right-color: var(--fill-color);\n",
              "    }\n",
              "    40% {\n",
              "      border-color: transparent;\n",
              "      border-right-color: var(--fill-color);\n",
              "      border-top-color: var(--fill-color);\n",
              "    }\n",
              "    60% {\n",
              "      border-color: transparent;\n",
              "      border-right-color: var(--fill-color);\n",
              "    }\n",
              "    80% {\n",
              "      border-color: transparent;\n",
              "      border-right-color: var(--fill-color);\n",
              "      border-bottom-color: var(--fill-color);\n",
              "    }\n",
              "    90% {\n",
              "      border-color: transparent;\n",
              "      border-bottom-color: var(--fill-color);\n",
              "    }\n",
              "  }\n",
              "</style>\n",
              "\n",
              "  <script>\n",
              "    async function quickchart(key) {\n",
              "      const quickchartButtonEl =\n",
              "        document.querySelector('#' + key + ' button');\n",
              "      quickchartButtonEl.disabled = true;  // To prevent multiple clicks.\n",
              "      quickchartButtonEl.classList.add('colab-df-spinner');\n",
              "      try {\n",
              "        const charts = await google.colab.kernel.invokeFunction(\n",
              "            'suggestCharts', [key], {});\n",
              "      } catch (error) {\n",
              "        console.error('Error during call to suggestCharts:', error);\n",
              "      }\n",
              "      quickchartButtonEl.classList.remove('colab-df-spinner');\n",
              "      quickchartButtonEl.classList.add('colab-df-quickchart-complete');\n",
              "    }\n",
              "    (() => {\n",
              "      let quickchartButtonEl =\n",
              "        document.querySelector('#df-94259e0e-5fa8-4ae9-8db2-bc61912429f9 button');\n",
              "      quickchartButtonEl.style.display =\n",
              "        google.colab.kernel.accessAllowed ? 'block' : 'none';\n",
              "    })();\n",
              "  </script>\n",
              "</div>\n",
              "    </div>\n",
              "  </div>\n"
            ]
          },
          "metadata": {},
          "execution_count": 11
        }
      ],
      "source": [
        "#Preview the 1st 7 rows of the table\n",
        "Energy_data.head(7)"
      ]
    },
    {
      "cell_type": "code",
      "execution_count": 12,
      "metadata": {
        "colab": {
          "base_uri": "https://localhost:8080/"
        },
        "id": "HllsZOcQ1AJ0",
        "outputId": "6e115001-b56f-4948-bf99-ce81acca0341"
      },
      "outputs": [
        {
          "output_type": "execute_result",
          "data": {
            "text/plain": [
              "(2075259, 9)"
            ]
          },
          "metadata": {},
          "execution_count": 12
        }
      ],
      "source": [
        "#Check shape of the data\n",
        "Energy_data.shape"
      ]
    },
    {
      "cell_type": "markdown",
      "metadata": {
        "id": "vRqScBqe1AJ1"
      },
      "source": [
        "## 3.1 Convert to datetime format YYYY-MM-DD HH:MM:SS"
      ]
    },
    {
      "cell_type": "code",
      "execution_count": null,
      "metadata": {
        "id": "kyVC4IqK1AJ1",
        "outputId": "9d4d31c8-5aee-4099-af23-7e1cdf654d05"
      },
      "outputs": [
        {
          "data": {
            "text/html": [
              "<div>\n",
              "<style scoped>\n",
              "    .dataframe tbody tr th:only-of-type {\n",
              "        vertical-align: middle;\n",
              "    }\n",
              "\n",
              "    .dataframe tbody tr th {\n",
              "        vertical-align: top;\n",
              "    }\n",
              "\n",
              "    .dataframe thead th {\n",
              "        text-align: right;\n",
              "    }\n",
              "</style>\n",
              "<table border=\"1\" class=\"dataframe\">\n",
              "  <thead>\n",
              "    <tr style=\"text-align: right;\">\n",
              "      <th></th>\n",
              "      <th>Global_active_power</th>\n",
              "      <th>Global_reactive_power</th>\n",
              "      <th>Voltage</th>\n",
              "      <th>Global_intensity</th>\n",
              "      <th>Sub_metering_1</th>\n",
              "      <th>Sub_metering_2</th>\n",
              "      <th>Sub_metering_3</th>\n",
              "    </tr>\n",
              "    <tr>\n",
              "      <th>DateTime</th>\n",
              "      <th></th>\n",
              "      <th></th>\n",
              "      <th></th>\n",
              "      <th></th>\n",
              "      <th></th>\n",
              "      <th></th>\n",
              "      <th></th>\n",
              "    </tr>\n",
              "  </thead>\n",
              "  <tbody>\n",
              "    <tr>\n",
              "      <th>2006-12-16 17:24:00</th>\n",
              "      <td>4.216</td>\n",
              "      <td>0.418</td>\n",
              "      <td>234.840</td>\n",
              "      <td>18.400</td>\n",
              "      <td>0.000</td>\n",
              "      <td>1.000</td>\n",
              "      <td>17.0</td>\n",
              "    </tr>\n",
              "    <tr>\n",
              "      <th>2006-12-16 17:25:00</th>\n",
              "      <td>5.360</td>\n",
              "      <td>0.436</td>\n",
              "      <td>233.630</td>\n",
              "      <td>23.000</td>\n",
              "      <td>0.000</td>\n",
              "      <td>1.000</td>\n",
              "      <td>16.0</td>\n",
              "    </tr>\n",
              "    <tr>\n",
              "      <th>2006-12-16 17:26:00</th>\n",
              "      <td>5.374</td>\n",
              "      <td>0.498</td>\n",
              "      <td>233.290</td>\n",
              "      <td>23.000</td>\n",
              "      <td>0.000</td>\n",
              "      <td>2.000</td>\n",
              "      <td>17.0</td>\n",
              "    </tr>\n",
              "    <tr>\n",
              "      <th>2006-12-16 17:27:00</th>\n",
              "      <td>5.388</td>\n",
              "      <td>0.502</td>\n",
              "      <td>233.740</td>\n",
              "      <td>23.000</td>\n",
              "      <td>0.000</td>\n",
              "      <td>1.000</td>\n",
              "      <td>17.0</td>\n",
              "    </tr>\n",
              "    <tr>\n",
              "      <th>2006-12-16 17:28:00</th>\n",
              "      <td>3.666</td>\n",
              "      <td>0.528</td>\n",
              "      <td>235.680</td>\n",
              "      <td>15.800</td>\n",
              "      <td>0.000</td>\n",
              "      <td>1.000</td>\n",
              "      <td>17.0</td>\n",
              "    </tr>\n",
              "    <tr>\n",
              "      <th>2006-12-16 17:29:00</th>\n",
              "      <td>3.520</td>\n",
              "      <td>0.522</td>\n",
              "      <td>235.020</td>\n",
              "      <td>15.000</td>\n",
              "      <td>0.000</td>\n",
              "      <td>2.000</td>\n",
              "      <td>17.0</td>\n",
              "    </tr>\n",
              "    <tr>\n",
              "      <th>2006-12-16 17:30:00</th>\n",
              "      <td>3.702</td>\n",
              "      <td>0.520</td>\n",
              "      <td>235.090</td>\n",
              "      <td>15.800</td>\n",
              "      <td>0.000</td>\n",
              "      <td>1.000</td>\n",
              "      <td>17.0</td>\n",
              "    </tr>\n",
              "  </tbody>\n",
              "</table>\n",
              "</div>"
            ],
            "text/plain": [
              "                    Global_active_power Global_reactive_power  Voltage  \\\n",
              "DateTime                                                                 \n",
              "2006-12-16 17:24:00               4.216                 0.418  234.840   \n",
              "2006-12-16 17:25:00               5.360                 0.436  233.630   \n",
              "2006-12-16 17:26:00               5.374                 0.498  233.290   \n",
              "2006-12-16 17:27:00               5.388                 0.502  233.740   \n",
              "2006-12-16 17:28:00               3.666                 0.528  235.680   \n",
              "2006-12-16 17:29:00               3.520                 0.522  235.020   \n",
              "2006-12-16 17:30:00               3.702                 0.520  235.090   \n",
              "\n",
              "                    Global_intensity Sub_metering_1 Sub_metering_2  \\\n",
              "DateTime                                                             \n",
              "2006-12-16 17:24:00           18.400          0.000          1.000   \n",
              "2006-12-16 17:25:00           23.000          0.000          1.000   \n",
              "2006-12-16 17:26:00           23.000          0.000          2.000   \n",
              "2006-12-16 17:27:00           23.000          0.000          1.000   \n",
              "2006-12-16 17:28:00           15.800          0.000          1.000   \n",
              "2006-12-16 17:29:00           15.000          0.000          2.000   \n",
              "2006-12-16 17:30:00           15.800          0.000          1.000   \n",
              "\n",
              "                     Sub_metering_3  \n",
              "DateTime                             \n",
              "2006-12-16 17:24:00            17.0  \n",
              "2006-12-16 17:25:00            16.0  \n",
              "2006-12-16 17:26:00            17.0  \n",
              "2006-12-16 17:27:00            17.0  \n",
              "2006-12-16 17:28:00            17.0  \n",
              "2006-12-16 17:29:00            17.0  \n",
              "2006-12-16 17:30:00            17.0  "
            ]
          },
          "execution_count": 7,
          "metadata": {},
          "output_type": "execute_result"
        }
      ],
      "source": [
        "#merge the date and time columns and form a new column called DateTime\n",
        "Energy_data[\"DateTime\"] = Energy_data[\"Date\"] +\" \"+ Energy_data[\"Time\"]\n",
        "#delete Date and Time Columns\n",
        "Energy_data.drop(Energy_data.iloc[:, 0:2], inplace=True, axis=1)\n",
        "#convert DateTime column to datetime format YYYY-MM-DD HH:MM:SS\n",
        "Energy_data[\"DateTime\"] = pd.to_datetime(Energy_data[\"DateTime\"])\n",
        "#Convert DateTime column to index\n",
        "Energy_data.set_index(\"DateTime\", inplace=True)\n",
        "#Preview the 1st 7 observations\n",
        "Energy_data.head(7)"
      ]
    },
    {
      "cell_type": "markdown",
      "metadata": {
        "id": "2Dg8uADa1AJ2"
      },
      "source": [
        "## 3.2 Treat missing values and Change Columns' Datatypes"
      ]
    },
    {
      "cell_type": "code",
      "execution_count": null,
      "metadata": {
        "id": "yeU7gsUk1AJ3",
        "outputId": "9d5f54d2-ce67-4d9c-ae4d-c8666461e7c9"
      },
      "outputs": [
        {
          "data": {
            "text/plain": [
              "True"
            ]
          },
          "execution_count": 8,
          "metadata": {},
          "output_type": "execute_result"
        }
      ],
      "source": [
        "#check for missing values\n",
        "Energy_data.isnull().values.any()"
      ]
    },
    {
      "cell_type": "markdown",
      "metadata": {
        "id": "yc_fxrsQ1AJ3"
      },
      "source": [
        "`Observation` : There are missing values"
      ]
    },
    {
      "cell_type": "code",
      "execution_count": null,
      "metadata": {
        "id": "eZJ9Fq601AJ3",
        "outputId": "9198eb57-1a7b-4779-ad3b-306a287ff1c7"
      },
      "outputs": [
        {
          "name": "stdout",
          "output_type": "stream",
          "text": [
            "<class 'pandas.core.frame.DataFrame'>\n",
            "DatetimeIndex: 2075259 entries, 2006-12-16 17:24:00 to 2010-11-26 21:02:00\n",
            "Data columns (total 7 columns):\n",
            "Global_active_power      object\n",
            "Global_reactive_power    object\n",
            "Voltage                  object\n",
            "Global_intensity         object\n",
            "Sub_metering_1           object\n",
            "Sub_metering_2           object\n",
            "Sub_metering_3           float64\n",
            "dtypes: float64(1), object(6)\n",
            "memory usage: 126.7+ MB\n"
          ]
        }
      ],
      "source": [
        "#Check columns datatypes\n",
        "Energy_data.info()"
      ]
    },
    {
      "cell_type": "markdown",
      "metadata": {
        "id": "SVNQtwvz1AJ4"
      },
      "source": [
        "`Observation` : On the CSV file, all columns protrayed as object/string are actually not.They are showing as object becuase of the presence of a string '?'"
      ]
    },
    {
      "cell_type": "code",
      "execution_count": null,
      "metadata": {
        "id": "v27JbQde1AJ4"
      },
      "outputs": [],
      "source": [
        "#replace ? with 0\n",
        "Energy_data = Energy_data.replace('?', 0)"
      ]
    },
    {
      "cell_type": "code",
      "execution_count": null,
      "metadata": {
        "id": "dM0kK6Cu1AJ4",
        "outputId": "e8a54415-4762-4353-a53d-b5673f210916"
      },
      "outputs": [
        {
          "data": {
            "text/plain": [
              "Global_active_power          0\n",
              "Global_reactive_power        0\n",
              "Voltage                      0\n",
              "Global_intensity             0\n",
              "Sub_metering_1               0\n",
              "Sub_metering_2               0\n",
              "Sub_metering_3           25979\n",
              "dtype: int64"
            ]
          },
          "execution_count": 11,
          "metadata": {},
          "output_type": "execute_result"
        }
      ],
      "source": [
        "#check sum of missing data\n",
        "Energy_data.isnull().sum()"
      ]
    },
    {
      "cell_type": "markdown",
      "metadata": {
        "id": "ZYlWNcsx1AJ5"
      },
      "source": [
        "`Observation` : Sub_metering_3 has missing values of 25979"
      ]
    },
    {
      "cell_type": "code",
      "execution_count": null,
      "metadata": {
        "id": "ZY5ZoYZa1AJ5",
        "outputId": "b0603b91-b88f-41ad-99b2-d2a098fec43c"
      },
      "outputs": [
        {
          "data": {
            "text/plain": [
              "Global_active_power      0\n",
              "Global_reactive_power    0\n",
              "Voltage                  0\n",
              "Global_intensity         0\n",
              "Sub_metering_1           0\n",
              "Sub_metering_2           0\n",
              "Sub_metering_3           0\n",
              "dtype: int64"
            ]
          },
          "execution_count": 12,
          "metadata": {},
          "output_type": "execute_result"
        }
      ],
      "source": [
        "#Filling missing data by imputation - Forward fill\n",
        "Energy_data = Energy_data.fillna(method='ffill')\n",
        "Energy_data.isnull().sum()"
      ]
    },
    {
      "cell_type": "code",
      "execution_count": null,
      "metadata": {
        "id": "p6f09B861AJ5"
      },
      "outputs": [],
      "source": [
        "#Convert all columns to float data types\n",
        "Energy_data = Energy_data.astype(float)"
      ]
    },
    {
      "cell_type": "code",
      "execution_count": null,
      "metadata": {
        "id": "24uoWo451AJ6",
        "outputId": "2a74889f-5c8c-4294-bbf5-86d16dc3f978"
      },
      "outputs": [
        {
          "name": "stdout",
          "output_type": "stream",
          "text": [
            "<class 'pandas.core.frame.DataFrame'>\n",
            "DatetimeIndex: 2075259 entries, 2006-12-16 17:24:00 to 2010-11-26 21:02:00\n",
            "Data columns (total 7 columns):\n",
            "Global_active_power      float64\n",
            "Global_reactive_power    float64\n",
            "Voltage                  float64\n",
            "Global_intensity         float64\n",
            "Sub_metering_1           float64\n",
            "Sub_metering_2           float64\n",
            "Sub_metering_3           float64\n",
            "dtypes: float64(7)\n",
            "memory usage: 126.7 MB\n"
          ]
        }
      ],
      "source": [
        "#Re-check columns datatypes\n",
        "Energy_data.info()"
      ]
    },
    {
      "cell_type": "code",
      "execution_count": null,
      "metadata": {
        "id": "1F3N7WHi1AJ6",
        "outputId": "0b9c9c11-03e5-4794-da5c-cc9f9034245e"
      },
      "outputs": [
        {
          "data": {
            "text/plain": [
              "Text(0,0.5,'Voltage')"
            ]
          },
          "execution_count": 11,
          "metadata": {},
          "output_type": "execute_result"
        },
        {
          "data": {
            "image/png": "[encoded data removed]",
            "text/plain": [
              "<Figure size 1080x432 with 1 Axes>"
            ]
          },
          "metadata": {
            "needs_background": "light"
          },
          "output_type": "display_data"
        }
      ],
      "source": [
        "#time-series plot of voltage reading against time\n",
        "#plot voltage against datetime\n",
        "plt.figure(figsize=(15,6))\n",
        "plt.plot(Energy_data.index, Energy_data.Voltage)\n",
        "plt.grid()\n",
        "plt.xlabel('DateTime')\n",
        "plt.ylabel('Voltage')"
      ]
    },
    {
      "cell_type": "markdown",
      "metadata": {
        "id": "0_xAsHcM1AJ6"
      },
      "source": [
        "`Observation`: It's difficult to recognize patterns because our dataset has too many samples 1048576"
      ]
    },
    {
      "cell_type": "markdown",
      "metadata": {
        "id": "O_sz45Z31AJ7"
      },
      "source": [
        "## 3.3 Outliers detection and treatment"
      ]
    },
    {
      "cell_type": "code",
      "execution_count": null,
      "metadata": {
        "id": "BUQ337921AJ7",
        "outputId": "69b1c4ea-d25d-4951-d8dd-560f6e53d3ee"
      },
      "outputs": [
        {
          "data": {
            "text/plain": [
              "<matplotlib.axes._subplots.AxesSubplot at 0x28031e34cc0>"
            ]
          },
          "execution_count": 12,
          "metadata": {},
          "output_type": "execute_result"
        },
        {
          "data": {
            "image/png": "[encoded data removed]",
            "text/plain": [
              "<Figure size 1080x432 with 1 Axes>"
            ]
          },
          "metadata": {
            "needs_background": "light"
          },
          "output_type": "display_data"
        }
      ],
      "source": [
        "#create a boxplot to detect the presence of outliers\n",
        "fig, ax = plt.subplots(figsize=(15, 6))\n",
        "Energy_data[\"Voltage\"].plot(kind=\"box\" , vert = False, title = \"Distribution of Voltage Readings\" , ax = ax)"
      ]
    },
    {
      "cell_type": "markdown",
      "metadata": {
        "id": "q3V6l2aQ1AJ7"
      },
      "source": [
        "`Observations`: Our target variable \"voltage\" has a lot of outliers"
      ]
    },
    {
      "cell_type": "code",
      "execution_count": null,
      "metadata": {
        "id": "nS5MbM2Q1AJ7"
      },
      "outputs": [],
      "source": [
        "#Remove outlier\n",
        "Energy_data = Energy_data[Energy_data[\"Voltage\"] > 200]  #mask to remove outlier with value of Voltage greater than 200"
      ]
    },
    {
      "cell_type": "code",
      "execution_count": null,
      "metadata": {
        "id": "1ZJE4rQD1AJ7",
        "outputId": "4b319c4f-6f92-4058-c70d-a2425aa96bf1"
      },
      "outputs": [
        {
          "data": {
            "text/plain": [
              "<matplotlib.axes._subplots.AxesSubplot at 0x28031c7ef98>"
            ]
          },
          "execution_count": 14,
          "metadata": {},
          "output_type": "execute_result"
        },
        {
          "data": {
            "image/png": "[encoded data removed]",
            "text/plain": [
              "<Figure size 1080x432 with 1 Axes>"
            ]
          },
          "metadata": {
            "needs_background": "light"
          },
          "output_type": "display_data"
        }
      ],
      "source": [
        "#check if outliers have been removed\n",
        "fig, ax = plt.subplots(figsize=(15, 6))\n",
        "Energy_data[\"Voltage\"].plot(kind=\"box\" , vert = False, title = \"Distribution of Voltage Readings\" , ax = ax)"
      ]
    },
    {
      "cell_type": "code",
      "execution_count": null,
      "metadata": {
        "id": "9wTCVVcF1AJ8",
        "outputId": "d6ee51ff-eccd-4526-b25a-a807df940d00"
      },
      "outputs": [
        {
          "data": {
            "text/plain": [
              "Text(0,0.5,'Voltage')"
            ]
          },
          "execution_count": 15,
          "metadata": {},
          "output_type": "execute_result"
        },
        {
          "data": {
            "image/png": "[encoded data removed]",
            "text/plain": [
              "<Figure size 1080x432 with 1 Axes>"
            ]
          },
          "metadata": {
            "needs_background": "light"
          },
          "output_type": "display_data"
        }
      ],
      "source": [
        "#plot voltage against datetime after outlier removal\n",
        "plt.figure(figsize=(15,6))\n",
        "plt.plot(Energy_data.index, Energy_data.Voltage)\n",
        "plt.grid()\n",
        "plt.xlabel('DateTime')\n",
        "plt.ylabel('Voltage')"
      ]
    },
    {
      "cell_type": "markdown",
      "metadata": {
        "id": "VLDPXIRY1AJ8"
      },
      "source": [
        "`Observations`: The pattern became less congested with the removal of outliers"
      ]
    },
    {
      "cell_type": "markdown",
      "metadata": {
        "id": "sEQvHwxQ1AJ8"
      },
      "source": [
        "## 3.4 Resampling Target Variable"
      ]
    },
    {
      "cell_type": "code",
      "execution_count": null,
      "metadata": {
        "id": "fO8lWIcu1AJ8",
        "outputId": "04c20de1-33c5-4dea-e1b8-0d627034d43b"
      },
      "outputs": [
        {
          "data": {
            "text/plain": [
              "DateTime\n",
              "2006-12-31    241.441125\n",
              "2007-06-30    239.142768\n",
              "2007-12-31    239.617826\n",
              "2008-06-30    240.442889\n",
              "2008-12-31    240.551386\n",
              "Name: Voltage, dtype: float64"
            ]
          },
          "execution_count": 16,
          "metadata": {},
          "output_type": "execute_result"
        }
      ],
      "source": [
        "#resampling(downsampling) for voltage readings to be 6months\n",
        "Energy_data[\"Voltage\"].resample(\"6M\").mean().head(7)"
      ]
    },
    {
      "cell_type": "code",
      "execution_count": null,
      "metadata": {
        "id": "rA8rwyFt1AJ9",
        "outputId": "e464f757-1250-412f-d94e-13d14493d39e"
      },
      "outputs": [
        {
          "data": {
            "text/plain": [
              "0"
            ]
          },
          "execution_count": 17,
          "metadata": {},
          "output_type": "execute_result"
        }
      ],
      "source": [
        "#Find out how many missing values\n",
        "Energy_data[\"Voltage\"].resample(\"6M\").mean().isnull().sum()"
      ]
    },
    {
      "cell_type": "code",
      "execution_count": null,
      "metadata": {
        "id": "pHSgcK1X1AJ9",
        "outputId": "5a3c070f-1bbf-4d69-e3cf-a5f6203510fe"
      },
      "outputs": [
        {
          "data": {
            "text/plain": [
              "0"
            ]
          },
          "execution_count": 18,
          "metadata": {},
          "output_type": "execute_result"
        }
      ],
      "source": [
        "#Check that their's not missing value again\n",
        "Energy_data[\"Voltage\"].resample(\"6M\").mean().fillna(method = \"ffill\").head().isnull().sum()"
      ]
    },
    {
      "cell_type": "code",
      "execution_count": null,
      "metadata": {
        "id": "IJH-giFL1AJ9",
        "outputId": "0b1c14c8-7d5b-4d09-8f4c-de4ba9026238"
      },
      "outputs": [
        {
          "data": {
            "text/plain": [
              "Text(0,0.5,'Voltage')"
            ]
          },
          "execution_count": 19,
          "metadata": {},
          "output_type": "execute_result"
        },
        {
          "data": {
            "image/png": "[encoded data removed]",
            "text/plain": [
              "<Figure size 1080x432 with 1 Axes>"
            ]
          },
          "metadata": {
            "needs_background": "light"
          },
          "output_type": "display_data"
        }
      ],
      "source": [
        "plt.figure(figsize=(15,6))\n",
        "plt.plot(Energy_data.index, Energy_data.Voltage)\n",
        "plt.grid()\n",
        "plt.xlabel('DateTime')\n",
        "plt.ylabel('Voltage')"
      ]
    },
    {
      "cell_type": "markdown",
      "metadata": {
        "id": "IFAjRq6G1AJ9"
      },
      "source": [
        "`Observation`: The undersampling of target variable does not have any effect on the pattern.The pattern remained the same"
      ]
    },
    {
      "cell_type": "markdown",
      "metadata": {
        "id": "ykd7RT0F1AJ-"
      },
      "source": [
        "## 3.5 Moving average smoothing"
      ]
    },
    {
      "cell_type": "code",
      "execution_count": null,
      "metadata": {
        "id": "oc23xE1o1AJ-",
        "outputId": "a0073347-57d5-42f0-f707-ce29507b334f"
      },
      "outputs": [
        {
          "data": {
            "text/plain": [
              "DateTime\n",
              "2006-12-16 17:24:00           NaN\n",
              "2006-12-16 17:25:00           NaN\n",
              "2006-12-16 17:26:00           NaN\n",
              "2006-12-16 17:27:00           NaN\n",
              "2006-12-16 17:28:00           NaN\n",
              "2006-12-16 17:29:00           NaN\n",
              "2006-12-16 17:30:00           NaN\n",
              "2006-12-16 17:31:00           NaN\n",
              "2006-12-16 17:32:00           NaN\n",
              "2006-12-16 17:33:00           NaN\n",
              "2006-12-16 17:34:00           NaN\n",
              "2006-12-16 17:35:00           NaN\n",
              "2006-12-16 17:36:00           NaN\n",
              "2006-12-16 17:37:00           NaN\n",
              "2006-12-16 17:38:00           NaN\n",
              "2006-12-16 17:39:00           NaN\n",
              "2006-12-16 17:40:00           NaN\n",
              "2006-12-16 17:41:00           NaN\n",
              "2006-12-16 17:42:00           NaN\n",
              "2006-12-16 17:43:00           NaN\n",
              "2006-12-16 17:44:00           NaN\n",
              "2006-12-16 17:45:00           NaN\n",
              "2006-12-16 17:46:00           NaN\n",
              "2006-12-16 17:47:00           NaN\n",
              "2006-12-16 17:48:00           NaN\n",
              "2006-12-16 17:49:00           NaN\n",
              "2006-12-16 17:50:00           NaN\n",
              "2006-12-16 17:51:00           NaN\n",
              "2006-12-16 17:52:00           NaN\n",
              "2006-12-16 17:53:00           NaN\n",
              "                          ...    \n",
              "2008-12-13 21:09:00    242.683505\n",
              "2008-12-13 21:10:00    242.684306\n",
              "2008-12-13 21:11:00    242.685120\n",
              "2008-12-13 21:12:00    242.686083\n",
              "2008-12-13 21:13:00    242.686856\n",
              "2008-12-13 21:14:00    242.687294\n",
              "2008-12-13 21:15:00    242.687796\n",
              "2008-12-13 21:16:00    242.688454\n",
              "2008-12-13 21:17:00    242.689491\n",
              "2008-12-13 21:18:00    242.690678\n",
              "2008-12-13 21:19:00    242.691576\n",
              "2008-12-13 21:20:00    242.692278\n",
              "2008-12-13 21:21:00    242.692685\n",
              "2008-12-13 21:22:00    242.693139\n",
              "2008-12-13 21:23:00    242.693586\n",
              "2008-12-13 21:24:00    242.693975\n",
              "2008-12-13 21:25:00    242.694514\n",
              "2008-12-13 21:26:00    242.694988\n",
              "2008-12-13 21:27:00    242.695218\n",
              "2008-12-13 21:28:00    242.695266\n",
              "2008-12-13 21:29:00    242.695500\n",
              "2008-12-13 21:30:00    242.695729\n",
              "2008-12-13 21:31:00    242.696012\n",
              "2008-12-13 21:32:00    242.696338\n",
              "2008-12-13 21:33:00    242.696824\n",
              "2008-12-13 21:34:00    242.697678\n",
              "2008-12-13 21:35:00    242.698361\n",
              "2008-12-13 21:36:00    242.698947\n",
              "2008-12-13 21:37:00    242.699678\n",
              "2008-12-13 21:38:00    242.700419\n",
              "Name: Voltage, Length: 1044506, dtype: float64"
            ]
          },
          "execution_count": 20,
          "metadata": {},
          "output_type": "execute_result"
        }
      ],
      "source": [
        "#Rolling average to smoothen time-series data using 6 months interval.Smootheen graph enables to see hidden trend\n",
        "Energy_data[\"Voltage\"].rolling(4320).mean()"
      ]
    },
    {
      "cell_type": "code",
      "execution_count": null,
      "metadata": {
        "id": "sVnl1dKb1AJ-",
        "outputId": "76a6e69e-9c34-447d-ce78-bd74ee3f4c22"
      },
      "outputs": [
        {
          "data": {
            "text/plain": [
              "4319"
            ]
          },
          "execution_count": 21,
          "metadata": {},
          "output_type": "execute_result"
        }
      ],
      "source": [
        "#1st 4320h in the window has missing value\n",
        "Energy_data[\"Voltage\"].rolling(4320).mean().isnull().sum()"
      ]
    },
    {
      "cell_type": "code",
      "execution_count": null,
      "metadata": {
        "id": "dIY3w1wm1AJ-",
        "outputId": "4c4273a2-7d21-4422-ca8d-72b11f5023d7"
      },
      "outputs": [
        {
          "data": {
            "image/png": "[encoded data removed]",
            "text/plain": [
              "<Figure size 1080x432 with 1 Axes>"
            ]
          },
          "metadata": {
            "needs_background": "light"
          },
          "output_type": "display_data"
        }
      ],
      "source": [
        "#smoothens the pattern with 6 months rolling average\n",
        "fig, ax = plt.subplots(figsize=(15, 6))\n",
        "Energy_data[\"Voltage\"].rolling(4320).mean().plot(ax=ax, label=\"Voltage\" , title = \"6 months Rolling Average\");"
      ]
    },
    {
      "cell_type": "markdown",
      "metadata": {
        "id": "avC7qSY31AKF"
      },
      "source": [
        "# 4. Exploratory Data Analysis"
      ]
    },
    {
      "cell_type": "code",
      "execution_count": null,
      "metadata": {
        "id": "1oUXpIex1AKF",
        "outputId": "96fcc7f4-bd33-46f1-9e8e-7fdb56417344"
      },
      "outputs": [
        {
          "data": {
            "image/png": "[encoded data removed]",
            "text/plain": [
              "<Figure size 1080x576 with 4 Axes>"
            ]
          },
          "metadata": {
            "needs_background": "light"
          },
          "output_type": "display_data"
        }
      ],
      "source": [
        "import statsmodels.api as sm\n",
        "from pylab import rcParams\n",
        "rcParams['figure.figsize'] = 15, 8\n",
        "decompose_series = sm.tsa.seasonal_decompose(Energy_data['Voltage'], model='additive', freq=10)\n",
        "decompose_series.plot()\n",
        "plt.show()"
      ]
    },
    {
      "cell_type": "code",
      "execution_count": null,
      "metadata": {
        "id": "0ME5tVSp1AKF"
      },
      "outputs": [],
      "source": [
        "#performs an ADF test\n",
        "from statsmodels.tsa.stattools import adfuller\n",
        "adf_result = adfuller(Energy_data['Voltage'])\n",
        "print(f'ADF Statistic: {adf_result[0]}')\n",
        "print(f'p-value: {adf_result[1]}')\n",
        "print(f'No. of lags used: {adf_result[2]}')\n",
        "print(f'No. of observations used : {adf_result[3]}')\n",
        "print('Critical Values:')\n",
        "for k, v in adf_result[4].items():\n",
        "    print(f'   {k}: {v}')"
      ]
    },
    {
      "cell_type": "code",
      "execution_count": null,
      "metadata": {
        "id": "bTsbV_VQ1AKG"
      },
      "outputs": [],
      "source": []
    },
    {
      "cell_type": "markdown",
      "metadata": {
        "id": "vJnXMcyz1AKG"
      },
      "source": [
        "# 4 Feature Engineering"
      ]
    },
    {
      "cell_type": "code",
      "execution_count": null,
      "metadata": {
        "id": "0RJ8paLX1AKG",
        "outputId": "2af2d9b7-66ff-41c3-ae16-11f27a32b4b3"
      },
      "outputs": [
        {
          "data": {
            "text/html": [
              "<div>\n",
              "<style scoped>\n",
              "    .dataframe tbody tr th:only-of-type {\n",
              "        vertical-align: middle;\n",
              "    }\n",
              "\n",
              "    .dataframe tbody tr th {\n",
              "        vertical-align: top;\n",
              "    }\n",
              "\n",
              "    .dataframe thead th {\n",
              "        text-align: right;\n",
              "    }\n",
              "</style>\n",
              "<table border=\"1\" class=\"dataframe\">\n",
              "  <thead>\n",
              "    <tr style=\"text-align: right;\">\n",
              "      <th></th>\n",
              "      <th>Global_active_power</th>\n",
              "      <th>Global_reactive_power</th>\n",
              "      <th>Voltage</th>\n",
              "      <th>Global_intensity</th>\n",
              "      <th>Sub_metering_1</th>\n",
              "      <th>Sub_metering_2</th>\n",
              "      <th>Sub_metering_3</th>\n",
              "      <th>Voltage.L1</th>\n",
              "    </tr>\n",
              "    <tr>\n",
              "      <th>DateTime</th>\n",
              "      <th></th>\n",
              "      <th></th>\n",
              "      <th></th>\n",
              "      <th></th>\n",
              "      <th></th>\n",
              "      <th></th>\n",
              "      <th></th>\n",
              "      <th></th>\n",
              "    </tr>\n",
              "  </thead>\n",
              "  <tbody>\n",
              "    <tr>\n",
              "      <th>2006-12-16 17:24:00</th>\n",
              "      <td>4.216</td>\n",
              "      <td>0.418</td>\n",
              "      <td>234.84</td>\n",
              "      <td>18.4</td>\n",
              "      <td>0.0</td>\n",
              "      <td>1.0</td>\n",
              "      <td>17.0</td>\n",
              "      <td>NaN</td>\n",
              "    </tr>\n",
              "    <tr>\n",
              "      <th>2006-12-16 17:25:00</th>\n",
              "      <td>5.360</td>\n",
              "      <td>0.436</td>\n",
              "      <td>233.63</td>\n",
              "      <td>23.0</td>\n",
              "      <td>0.0</td>\n",
              "      <td>1.0</td>\n",
              "      <td>16.0</td>\n",
              "      <td>234.84</td>\n",
              "    </tr>\n",
              "    <tr>\n",
              "      <th>2006-12-16 17:26:00</th>\n",
              "      <td>5.374</td>\n",
              "      <td>0.498</td>\n",
              "      <td>233.29</td>\n",
              "      <td>23.0</td>\n",
              "      <td>0.0</td>\n",
              "      <td>2.0</td>\n",
              "      <td>17.0</td>\n",
              "      <td>233.63</td>\n",
              "    </tr>\n",
              "    <tr>\n",
              "      <th>2006-12-16 17:27:00</th>\n",
              "      <td>5.388</td>\n",
              "      <td>0.502</td>\n",
              "      <td>233.74</td>\n",
              "      <td>23.0</td>\n",
              "      <td>0.0</td>\n",
              "      <td>1.0</td>\n",
              "      <td>17.0</td>\n",
              "      <td>233.29</td>\n",
              "    </tr>\n",
              "    <tr>\n",
              "      <th>2006-12-16 17:28:00</th>\n",
              "      <td>3.666</td>\n",
              "      <td>0.528</td>\n",
              "      <td>235.68</td>\n",
              "      <td>15.8</td>\n",
              "      <td>0.0</td>\n",
              "      <td>1.0</td>\n",
              "      <td>17.0</td>\n",
              "      <td>233.74</td>\n",
              "    </tr>\n",
              "    <tr>\n",
              "      <th>2006-12-16 17:29:00</th>\n",
              "      <td>3.520</td>\n",
              "      <td>0.522</td>\n",
              "      <td>235.02</td>\n",
              "      <td>15.0</td>\n",
              "      <td>0.0</td>\n",
              "      <td>2.0</td>\n",
              "      <td>17.0</td>\n",
              "      <td>235.68</td>\n",
              "    </tr>\n",
              "    <tr>\n",
              "      <th>2006-12-16 17:30:00</th>\n",
              "      <td>3.702</td>\n",
              "      <td>0.520</td>\n",
              "      <td>235.09</td>\n",
              "      <td>15.8</td>\n",
              "      <td>0.0</td>\n",
              "      <td>1.0</td>\n",
              "      <td>17.0</td>\n",
              "      <td>235.02</td>\n",
              "    </tr>\n",
              "  </tbody>\n",
              "</table>\n",
              "</div>"
            ],
            "text/plain": [
              "                     Global_active_power  Global_reactive_power  Voltage  \\\n",
              "DateTime                                                                   \n",
              "2006-12-16 17:24:00                4.216                  0.418   234.84   \n",
              "2006-12-16 17:25:00                5.360                  0.436   233.63   \n",
              "2006-12-16 17:26:00                5.374                  0.498   233.29   \n",
              "2006-12-16 17:27:00                5.388                  0.502   233.74   \n",
              "2006-12-16 17:28:00                3.666                  0.528   235.68   \n",
              "2006-12-16 17:29:00                3.520                  0.522   235.02   \n",
              "2006-12-16 17:30:00                3.702                  0.520   235.09   \n",
              "\n",
              "                     Global_intensity  Sub_metering_1  Sub_metering_2  \\\n",
              "DateTime                                                                \n",
              "2006-12-16 17:24:00              18.4             0.0             1.0   \n",
              "2006-12-16 17:25:00              23.0             0.0             1.0   \n",
              "2006-12-16 17:26:00              23.0             0.0             2.0   \n",
              "2006-12-16 17:27:00              23.0             0.0             1.0   \n",
              "2006-12-16 17:28:00              15.8             0.0             1.0   \n",
              "2006-12-16 17:29:00              15.0             0.0             2.0   \n",
              "2006-12-16 17:30:00              15.8             0.0             1.0   \n",
              "\n",
              "                     Sub_metering_3  Voltage.L1  \n",
              "DateTime                                         \n",
              "2006-12-16 17:24:00            17.0         NaN  \n",
              "2006-12-16 17:25:00            16.0      234.84  \n",
              "2006-12-16 17:26:00            17.0      233.63  \n",
              "2006-12-16 17:27:00            17.0      233.29  \n",
              "2006-12-16 17:28:00            17.0      233.74  \n",
              "2006-12-16 17:29:00            17.0      235.68  \n",
              "2006-12-16 17:30:00            17.0      235.02  "
            ]
          },
          "execution_count": 24,
          "metadata": {},
          "output_type": "execute_result"
        }
      ],
      "source": [
        "# create a lag of the target variable Voltage\n",
        "Energy_data[\"Voltage.L1\"]= Energy_data[\"Voltage\"].shift(1)\n",
        "Energy_data.head(7)"
      ]
    },
    {
      "cell_type": "code",
      "execution_count": null,
      "metadata": {
        "id": "A_nDGT4o1AKG",
        "outputId": "b09a51c2-a9b8-4169-86ef-4d1457a44fd9"
      },
      "outputs": [
        {
          "data": {
            "text/html": [
              "<div>\n",
              "<style scoped>\n",
              "    .dataframe tbody tr th:only-of-type {\n",
              "        vertical-align: middle;\n",
              "    }\n",
              "\n",
              "    .dataframe tbody tr th {\n",
              "        vertical-align: top;\n",
              "    }\n",
              "\n",
              "    .dataframe thead th {\n",
              "        text-align: right;\n",
              "    }\n",
              "</style>\n",
              "<table border=\"1\" class=\"dataframe\">\n",
              "  <thead>\n",
              "    <tr style=\"text-align: right;\">\n",
              "      <th></th>\n",
              "      <th>Global_active_power</th>\n",
              "      <th>Global_reactive_power</th>\n",
              "      <th>Voltage</th>\n",
              "      <th>Global_intensity</th>\n",
              "      <th>Sub_metering_1</th>\n",
              "      <th>Sub_metering_2</th>\n",
              "      <th>Sub_metering_3</th>\n",
              "      <th>Voltage.L1</th>\n",
              "    </tr>\n",
              "    <tr>\n",
              "      <th>DateTime</th>\n",
              "      <th></th>\n",
              "      <th></th>\n",
              "      <th></th>\n",
              "      <th></th>\n",
              "      <th></th>\n",
              "      <th></th>\n",
              "      <th></th>\n",
              "      <th></th>\n",
              "    </tr>\n",
              "  </thead>\n",
              "  <tbody>\n",
              "    <tr>\n",
              "      <th>2006-12-16 17:25:00</th>\n",
              "      <td>5.360</td>\n",
              "      <td>0.436</td>\n",
              "      <td>233.63</td>\n",
              "      <td>23.0</td>\n",
              "      <td>0.0</td>\n",
              "      <td>1.0</td>\n",
              "      <td>16.0</td>\n",
              "      <td>234.84</td>\n",
              "    </tr>\n",
              "    <tr>\n",
              "      <th>2006-12-16 17:26:00</th>\n",
              "      <td>5.374</td>\n",
              "      <td>0.498</td>\n",
              "      <td>233.29</td>\n",
              "      <td>23.0</td>\n",
              "      <td>0.0</td>\n",
              "      <td>2.0</td>\n",
              "      <td>17.0</td>\n",
              "      <td>233.63</td>\n",
              "    </tr>\n",
              "    <tr>\n",
              "      <th>2006-12-16 17:27:00</th>\n",
              "      <td>5.388</td>\n",
              "      <td>0.502</td>\n",
              "      <td>233.74</td>\n",
              "      <td>23.0</td>\n",
              "      <td>0.0</td>\n",
              "      <td>1.0</td>\n",
              "      <td>17.0</td>\n",
              "      <td>233.29</td>\n",
              "    </tr>\n",
              "    <tr>\n",
              "      <th>2006-12-16 17:28:00</th>\n",
              "      <td>3.666</td>\n",
              "      <td>0.528</td>\n",
              "      <td>235.68</td>\n",
              "      <td>15.8</td>\n",
              "      <td>0.0</td>\n",
              "      <td>1.0</td>\n",
              "      <td>17.0</td>\n",
              "      <td>233.74</td>\n",
              "    </tr>\n",
              "    <tr>\n",
              "      <th>2006-12-16 17:29:00</th>\n",
              "      <td>3.520</td>\n",
              "      <td>0.522</td>\n",
              "      <td>235.02</td>\n",
              "      <td>15.0</td>\n",
              "      <td>0.0</td>\n",
              "      <td>2.0</td>\n",
              "      <td>17.0</td>\n",
              "      <td>235.68</td>\n",
              "    </tr>\n",
              "    <tr>\n",
              "      <th>2006-12-16 17:30:00</th>\n",
              "      <td>3.702</td>\n",
              "      <td>0.520</td>\n",
              "      <td>235.09</td>\n",
              "      <td>15.8</td>\n",
              "      <td>0.0</td>\n",
              "      <td>1.0</td>\n",
              "      <td>17.0</td>\n",
              "      <td>235.02</td>\n",
              "    </tr>\n",
              "    <tr>\n",
              "      <th>2006-12-16 17:31:00</th>\n",
              "      <td>3.700</td>\n",
              "      <td>0.520</td>\n",
              "      <td>235.22</td>\n",
              "      <td>15.8</td>\n",
              "      <td>0.0</td>\n",
              "      <td>1.0</td>\n",
              "      <td>17.0</td>\n",
              "      <td>235.09</td>\n",
              "    </tr>\n",
              "  </tbody>\n",
              "</table>\n",
              "</div>"
            ],
            "text/plain": [
              "                     Global_active_power  Global_reactive_power  Voltage  \\\n",
              "DateTime                                                                   \n",
              "2006-12-16 17:25:00                5.360                  0.436   233.63   \n",
              "2006-12-16 17:26:00                5.374                  0.498   233.29   \n",
              "2006-12-16 17:27:00                5.388                  0.502   233.74   \n",
              "2006-12-16 17:28:00                3.666                  0.528   235.68   \n",
              "2006-12-16 17:29:00                3.520                  0.522   235.02   \n",
              "2006-12-16 17:30:00                3.702                  0.520   235.09   \n",
              "2006-12-16 17:31:00                3.700                  0.520   235.22   \n",
              "\n",
              "                     Global_intensity  Sub_metering_1  Sub_metering_2  \\\n",
              "DateTime                                                                \n",
              "2006-12-16 17:25:00              23.0             0.0             1.0   \n",
              "2006-12-16 17:26:00              23.0             0.0             2.0   \n",
              "2006-12-16 17:27:00              23.0             0.0             1.0   \n",
              "2006-12-16 17:28:00              15.8             0.0             1.0   \n",
              "2006-12-16 17:29:00              15.0             0.0             2.0   \n",
              "2006-12-16 17:30:00              15.8             0.0             1.0   \n",
              "2006-12-16 17:31:00              15.8             0.0             1.0   \n",
              "\n",
              "                     Sub_metering_3  Voltage.L1  \n",
              "DateTime                                         \n",
              "2006-12-16 17:25:00            16.0      234.84  \n",
              "2006-12-16 17:26:00            17.0      233.63  \n",
              "2006-12-16 17:27:00            17.0      233.29  \n",
              "2006-12-16 17:28:00            17.0      233.74  \n",
              "2006-12-16 17:29:00            17.0      235.68  \n",
              "2006-12-16 17:30:00            17.0      235.02  \n",
              "2006-12-16 17:31:00            17.0      235.09  "
            ]
          },
          "execution_count": 25,
          "metadata": {},
          "output_type": "execute_result"
        }
      ],
      "source": [
        "# Delete missing data Voltage.L1 column\n",
        "Energy_data.dropna().head(7)"
      ]
    },
    {
      "cell_type": "code",
      "execution_count": null,
      "metadata": {
        "id": "0xWAS9se1AKH",
        "outputId": "51ae39c3-91ee-490a-e9db-6a2dbe60c506"
      },
      "outputs": [
        {
          "data": {
            "text/html": [
              "<div>\n",
              "<style scoped>\n",
              "    .dataframe tbody tr th:only-of-type {\n",
              "        vertical-align: middle;\n",
              "    }\n",
              "\n",
              "    .dataframe tbody tr th {\n",
              "        vertical-align: top;\n",
              "    }\n",
              "\n",
              "    .dataframe thead th {\n",
              "        text-align: right;\n",
              "    }\n",
              "</style>\n",
              "<table border=\"1\" class=\"dataframe\">\n",
              "  <thead>\n",
              "    <tr style=\"text-align: right;\">\n",
              "      <th></th>\n",
              "      <th>Global_active_power</th>\n",
              "      <th>Global_reactive_power</th>\n",
              "      <th>Voltage</th>\n",
              "      <th>Global_intensity</th>\n",
              "      <th>Sub_metering_1</th>\n",
              "      <th>Sub_metering_2</th>\n",
              "      <th>Sub_metering_3</th>\n",
              "      <th>Voltage.L1</th>\n",
              "    </tr>\n",
              "  </thead>\n",
              "  <tbody>\n",
              "    <tr>\n",
              "      <th>Global_active_power</th>\n",
              "      <td>1.000000</td>\n",
              "      <td>0.254841</td>\n",
              "      <td>-0.400987</td>\n",
              "      <td>0.999020</td>\n",
              "      <td>0.474129</td>\n",
              "      <td>0.456677</td>\n",
              "      <td>0.624107</td>\n",
              "      <td>-0.389370</td>\n",
              "    </tr>\n",
              "    <tr>\n",
              "      <th>Global_reactive_power</th>\n",
              "      <td>0.254841</td>\n",
              "      <td>1.000000</td>\n",
              "      <td>-0.120617</td>\n",
              "      <td>0.271843</td>\n",
              "      <td>0.137682</td>\n",
              "      <td>0.150528</td>\n",
              "      <td>0.076274</td>\n",
              "      <td>-0.119251</td>\n",
              "    </tr>\n",
              "    <tr>\n",
              "      <th>Voltage</th>\n",
              "      <td>-0.400987</td>\n",
              "      <td>-0.120617</td>\n",
              "      <td>1.000000</td>\n",
              "      <td>-0.411298</td>\n",
              "      <td>-0.203805</td>\n",
              "      <td>-0.178899</td>\n",
              "      <td>-0.284932</td>\n",
              "      <td>0.982945</td>\n",
              "    </tr>\n",
              "    <tr>\n",
              "      <th>Global_intensity</th>\n",
              "      <td>0.999020</td>\n",
              "      <td>0.271843</td>\n",
              "      <td>-0.411298</td>\n",
              "      <td>1.000000</td>\n",
              "      <td>0.478198</td>\n",
              "      <td>0.462192</td>\n",
              "      <td>0.613220</td>\n",
              "      <td>-0.399443</td>\n",
              "    </tr>\n",
              "    <tr>\n",
              "      <th>Sub_metering_1</th>\n",
              "      <td>0.474129</td>\n",
              "      <td>0.137682</td>\n",
              "      <td>-0.203805</td>\n",
              "      <td>0.478198</td>\n",
              "      <td>1.000000</td>\n",
              "      <td>0.060830</td>\n",
              "      <td>0.115600</td>\n",
              "      <td>-0.194597</td>\n",
              "    </tr>\n",
              "    <tr>\n",
              "      <th>Sub_metering_2</th>\n",
              "      <td>0.456677</td>\n",
              "      <td>0.150528</td>\n",
              "      <td>-0.178899</td>\n",
              "      <td>0.462192</td>\n",
              "      <td>0.060830</td>\n",
              "      <td>1.000000</td>\n",
              "      <td>0.106461</td>\n",
              "      <td>-0.172511</td>\n",
              "    </tr>\n",
              "    <tr>\n",
              "      <th>Sub_metering_3</th>\n",
              "      <td>0.624107</td>\n",
              "      <td>0.076274</td>\n",
              "      <td>-0.284932</td>\n",
              "      <td>0.613220</td>\n",
              "      <td>0.115600</td>\n",
              "      <td>0.106461</td>\n",
              "      <td>1.000000</td>\n",
              "      <td>-0.284267</td>\n",
              "    </tr>\n",
              "    <tr>\n",
              "      <th>Voltage.L1</th>\n",
              "      <td>-0.389370</td>\n",
              "      <td>-0.119251</td>\n",
              "      <td>0.982945</td>\n",
              "      <td>-0.399443</td>\n",
              "      <td>-0.194597</td>\n",
              "      <td>-0.172511</td>\n",
              "      <td>-0.284267</td>\n",
              "      <td>1.000000</td>\n",
              "    </tr>\n",
              "  </tbody>\n",
              "</table>\n",
              "</div>"
            ],
            "text/plain": [
              "                       Global_active_power  Global_reactive_power   Voltage  \\\n",
              "Global_active_power               1.000000               0.254841 -0.400987   \n",
              "Global_reactive_power             0.254841               1.000000 -0.120617   \n",
              "Voltage                          -0.400987              -0.120617  1.000000   \n",
              "Global_intensity                  0.999020               0.271843 -0.411298   \n",
              "Sub_metering_1                    0.474129               0.137682 -0.203805   \n",
              "Sub_metering_2                    0.456677               0.150528 -0.178899   \n",
              "Sub_metering_3                    0.624107               0.076274 -0.284932   \n",
              "Voltage.L1                       -0.389370              -0.119251  0.982945   \n",
              "\n",
              "                       Global_intensity  Sub_metering_1  Sub_metering_2  \\\n",
              "Global_active_power            0.999020        0.474129        0.456677   \n",
              "Global_reactive_power          0.271843        0.137682        0.150528   \n",
              "Voltage                       -0.411298       -0.203805       -0.178899   \n",
              "Global_intensity               1.000000        0.478198        0.462192   \n",
              "Sub_metering_1                 0.478198        1.000000        0.060830   \n",
              "Sub_metering_2                 0.462192        0.060830        1.000000   \n",
              "Sub_metering_3                 0.613220        0.115600        0.106461   \n",
              "Voltage.L1                    -0.399443       -0.194597       -0.172511   \n",
              "\n",
              "                       Sub_metering_3  Voltage.L1  \n",
              "Global_active_power          0.624107   -0.389370  \n",
              "Global_reactive_power        0.076274   -0.119251  \n",
              "Voltage                     -0.284932    0.982945  \n",
              "Global_intensity             0.613220   -0.399443  \n",
              "Sub_metering_1               0.115600   -0.194597  \n",
              "Sub_metering_2               0.106461   -0.172511  \n",
              "Sub_metering_3               1.000000   -0.284267  \n",
              "Voltage.L1                  -0.284267    1.000000  "
            ]
          },
          "execution_count": 26,
          "metadata": {},
          "output_type": "execute_result"
        }
      ],
      "source": [
        "#autocorrelation between target feature Voltage and predictor Voltage-L1\n",
        "Energy_data.corr()"
      ]
    },
    {
      "cell_type": "markdown",
      "metadata": {
        "id": "aWnVDL8Y1AKH"
      },
      "source": [
        "`Observation`: Target variable (Voltage) and its lag (Voltage.L1) has excellent positve correlation of 0.98"
      ]
    },
    {
      "cell_type": "code",
      "execution_count": null,
      "metadata": {
        "id": "x8kjv7-61AKH",
        "outputId": "cf731b1f-5371-46c8-f90a-95280fd8c106"
      },
      "outputs": [
        {
          "data": {
            "text/plain": [
              "Text(0.5,1,'Voltage Autocorrelation')"
            ]
          },
          "execution_count": 27,
          "metadata": {},
          "output_type": "execute_result"
        },
        {
          "data": {
            "image/png": "[encoded data removed]",
            "text/plain": [
              "<Figure size 432x432 with 1 Axes>"
            ]
          },
          "metadata": {
            "needs_background": "light"
          },
          "output_type": "display_data"
        }
      ],
      "source": [
        "#Plot of  Voltage and Voltage.L1\n",
        "fig, ax = plt.subplots(figsize=(6, 6))\n",
        "ax.scatter(x=Energy_data[\"Voltage.L1\"], y=Energy_data[\"Voltage\"])\n",
        "ax.plot([0,120], [0,120] , linestyle=\"--\", color = \"orange\")\n",
        "plt.xlabel(\"Voltage.L1\")\n",
        "plt.ylabel(\"Voltage\")\n",
        "plt.title(\"Voltage Autocorrelation\")"
      ]
    },
    {
      "cell_type": "markdown",
      "metadata": {
        "id": "3Hkw7nGm1AKH"
      },
      "source": [
        "# 5 Build Linear Regression Model"
      ]
    },
    {
      "cell_type": "markdown",
      "metadata": {
        "id": "xlLGwimE1AKI"
      },
      "source": [
        "## 5.1 Split Data"
      ]
    },
    {
      "cell_type": "code",
      "execution_count": null,
      "metadata": {
        "id": "skSsi7P21AKI",
        "outputId": "fb47c130-5a4a-41ff-fec4-c19097ab1a89"
      },
      "outputs": [
        {
          "data": {
            "text/plain": [
              "Index(['Global_active_power', 'Global_reactive_power', 'Voltage',\n",
              "       'Global_intensity', 'Sub_metering_1', 'Sub_metering_2',\n",
              "       'Sub_metering_3', 'Voltage.L1'],\n",
              "      dtype='object')"
            ]
          },
          "execution_count": 28,
          "metadata": {},
          "output_type": "execute_result"
        }
      ],
      "source": [
        "#List columns in the dataset\n",
        "Energy_data.columns"
      ]
    },
    {
      "cell_type": "code",
      "execution_count": null,
      "metadata": {
        "id": "X1cxKmcU1AKI"
      },
      "outputs": [],
      "source": [
        "#split data into x and y\n",
        "y = Energy_data[\"Voltage\"]   #target\n",
        "X = Energy_data.drop(columns=['Global_active_power', 'Global_reactive_power', 'Voltage',\n",
        "       'Global_intensity', 'Sub_metering_1', 'Sub_metering_2',\n",
        "       'Sub_metering_3'])   #predictor"
      ]
    },
    {
      "cell_type": "code",
      "execution_count": null,
      "metadata": {
        "id": "LyH9QenA1AKJ"
      },
      "outputs": [],
      "source": [
        "#cut-off splitting apllicable to time-series data\n",
        "cutoff = int(len(X) * 0.8)\n",
        "\n",
        "X_train, y_train = X.iloc[:cutoff], y.iloc[:cutoff]\n",
        "X_test, y_test = X.iloc[cutoff:], y.iloc[cutoff:]"
      ]
    },
    {
      "cell_type": "markdown",
      "metadata": {
        "id": "LP6OiMsQ1AKJ"
      },
      "source": [
        "## 5.2 Baseline Model"
      ]
    },
    {
      "cell_type": "code",
      "execution_count": null,
      "metadata": {
        "id": "a-7dlQQE1AKJ",
        "outputId": "fbc71f6c-1e68-4439-cc5c-433e28b261a8"
      },
      "outputs": [
        {
          "name": "stdout",
          "output_type": "stream",
          "text": [
            "Mean voltage Reading: 239.81\n",
            "Baseline MAE: 2.71\n"
          ]
        }
      ],
      "source": [
        "y_mean = y_train.mean()\n",
        "y_pred_baseline =[y_mean] * len(y_train)\n",
        "mae_baseline = mean_absolute_error(y_pred_baseline, y_train)\n",
        "\n",
        "print(\"Mean voltage Reading:\", round(y_train.mean(), 2))\n",
        "print(\"Baseline MAE:\", round(mae_baseline, 2))"
      ]
    },
    {
      "cell_type": "markdown",
      "metadata": {
        "id": "iA85Nc2F1AKJ"
      },
      "source": [
        "## 5.3 Linear (Ridge) Regression Model"
      ]
    },
    {
      "cell_type": "code",
      "execution_count": null,
      "metadata": {
        "id": "hyfKx3xA1AKK",
        "outputId": "68c4eb70-81c4-4466-f48c-2361b629279b"
      },
      "outputs": [
        {
          "name": "stdout",
          "output_type": "stream",
          "text": [
            "<class 'pandas.core.frame.DataFrame'>\n",
            "RangeIndex: 835604 entries, 0 to 835603\n",
            "Data columns (total 1 columns):\n",
            "Voltage.L1    835604 non-null float64\n",
            "dtypes: float64(1)\n",
            "memory usage: 6.4 MB\n"
          ]
        }
      ],
      "source": [
        "#treating missing values in X_train\n",
        "imputer = SimpleImputer()\n",
        "imputer.fit(X_train)\n",
        "XT_train = imputer.transform(X_train)\n",
        "pd.DataFrame(XT_train, columns=X_train.columns).info()"
      ]
    },
    {
      "cell_type": "code",
      "execution_count": null,
      "metadata": {
        "id": "25-Pscae1AKK",
        "outputId": "96b6ee2b-ba4b-4012-cdf9-42bd1bd41ff4"
      },
      "outputs": [
        {
          "data": {
            "text/plain": [
              "Pipeline(steps=[('simpleimputer', SimpleImputer()),\n",
              "                ('linearregression', LinearRegression())])"
            ]
          },
          "execution_count": 33,
          "metadata": {},
          "output_type": "execute_result"
        }
      ],
      "source": [
        "#Instantiate an object of the class LinearRegression as model\n",
        "model_reg = make_pipeline(SimpleImputer(), LinearRegression())\n",
        "model_reg.fit(X_train, y_train)"
      ]
    },
    {
      "cell_type": "code",
      "execution_count": null,
      "metadata": {
        "id": "l3bGwGIl1AKK"
      },
      "outputs": [],
      "source": [
        "#Model predictions with ridge\n",
        "y_pred_train_1 = model_reg.predict(X_train)\n",
        "y_pred_test_1 = model_reg.predict(X_test)"
      ]
    },
    {
      "cell_type": "code",
      "execution_count": null,
      "metadata": {
        "id": "D3If7ocV1AKK",
        "outputId": "d27b3151-ee3e-4328-a81c-6a57414deead"
      },
      "outputs": [
        {
          "name": "stdout",
          "output_type": "stream",
          "text": [
            "Training MAE: 0.44\n",
            "Test MAE: 0.38\n"
          ]
        }
      ],
      "source": [
        "#Compare Model performance\n",
        "training_mae = mean_absolute_error(y_pred_train_1 , y_train)\n",
        "test_mae = mean_absolute_error(y_pred_test_1 , y_test)\n",
        "print(\"Training MAE:\", round(training_mae, 2))\n",
        "print(\"Test MAE:\", round(test_mae, 2))"
      ]
    },
    {
      "cell_type": "markdown",
      "metadata": {
        "id": "eBpFDfZc1AKL"
      },
      "source": [
        "## 5.4 Train Ridge Model"
      ]
    },
    {
      "cell_type": "code",
      "execution_count": null,
      "metadata": {
        "id": "xFF6Kbj61AKL",
        "outputId": "4f7184da-9975-4fae-db14-618b3bbc78f0"
      },
      "outputs": [
        {
          "data": {
            "text/plain": [
              "Pipeline(steps=[('simpleimputer', SimpleImputer()), ('ridge', Ridge())])"
            ]
          },
          "execution_count": 36,
          "metadata": {},
          "output_type": "execute_result"
        }
      ],
      "source": [
        "#Model train with ridge\n",
        "model_ridge = make_pipeline(SimpleImputer(), Ridge())\n",
        "model_ridge.fit(X_train, y_train)"
      ]
    },
    {
      "cell_type": "code",
      "execution_count": null,
      "metadata": {
        "id": "I0ijiGFE1AKL"
      },
      "outputs": [],
      "source": [
        "#Model predictions with ridge\n",
        "y_pred_train_2 = model_ridge.predict(X_train)\n",
        "y_pred_test_2 = model_ridge.predict(X_test)"
      ]
    },
    {
      "cell_type": "markdown",
      "metadata": {
        "id": "hWC6LgZF1AKL"
      },
      "source": [
        "## 5.5 Ridge Performance Metric"
      ]
    },
    {
      "cell_type": "code",
      "execution_count": null,
      "metadata": {
        "id": "60ULWGZI1AKL",
        "outputId": "d03d53f5-1082-4ffd-ee89-75f68da8f8bb"
      },
      "outputs": [
        {
          "name": "stdout",
          "output_type": "stream",
          "text": [
            "Training MAE: 0.44\n",
            "Test MAE: 0.38\n"
          ]
        }
      ],
      "source": [
        "#Compare Model performance\n",
        "training_mae = mean_absolute_error(y_pred_train_2 , y_train)\n",
        "test_mae = mean_absolute_error(y_pred_test_2 , y_test)\n",
        "print(\"Training MAE:\", round(training_mae, 2))\n",
        "print(\"Test MAE:\", round(test_mae, 2))"
      ]
    },
    {
      "cell_type": "markdown",
      "metadata": {
        "id": "Rucq5Om61AKM"
      },
      "source": [
        "`Observation`: The model generalizes well on an unseen data (test data).\n",
        "               Both Linear Regression and Ridge have the same MAE of 0.38 with an unseen data"
      ]
    },
    {
      "cell_type": "code",
      "execution_count": null,
      "metadata": {
        "id": "wEeCYsh71AKM",
        "outputId": "b59de7da-ca33-4b4d-c343-185cbc5c9426"
      },
      "outputs": [
        {
          "data": {
            "text/html": [
              "<div>\n",
              "<style scoped>\n",
              "    .dataframe tbody tr th:only-of-type {\n",
              "        vertical-align: middle;\n",
              "    }\n",
              "\n",
              "    .dataframe tbody tr th {\n",
              "        vertical-align: top;\n",
              "    }\n",
              "\n",
              "    .dataframe thead th {\n",
              "        text-align: right;\n",
              "    }\n",
              "</style>\n",
              "<table border=\"1\" class=\"dataframe\">\n",
              "  <thead>\n",
              "    <tr style=\"text-align: right;\">\n",
              "      <th></th>\n",
              "      <th>y_test</th>\n",
              "      <th>y_pred_test</th>\n",
              "    </tr>\n",
              "    <tr>\n",
              "      <th>DateTime</th>\n",
              "      <th></th>\n",
              "      <th></th>\n",
              "    </tr>\n",
              "  </thead>\n",
              "  <tbody>\n",
              "    <tr>\n",
              "      <th>2008-07-21 17:53:00</th>\n",
              "      <td>239.55</td>\n",
              "      <td>239.485471</td>\n",
              "    </tr>\n",
              "    <tr>\n",
              "      <th>2008-07-21 17:54:00</th>\n",
              "      <td>239.63</td>\n",
              "      <td>239.554318</td>\n",
              "    </tr>\n",
              "    <tr>\n",
              "      <th>2008-07-21 17:55:00</th>\n",
              "      <td>239.41</td>\n",
              "      <td>239.633000</td>\n",
              "    </tr>\n",
              "    <tr>\n",
              "      <th>2008-07-21 17:56:00</th>\n",
              "      <td>239.45</td>\n",
              "      <td>239.416624</td>\n",
              "    </tr>\n",
              "    <tr>\n",
              "      <th>2008-07-21 17:57:00</th>\n",
              "      <td>239.46</td>\n",
              "      <td>239.455965</td>\n",
              "    </tr>\n",
              "    <tr>\n",
              "      <th>2008-07-21 17:58:00</th>\n",
              "      <td>239.48</td>\n",
              "      <td>239.465800</td>\n",
              "    </tr>\n",
              "    <tr>\n",
              "      <th>2008-07-21 17:59:00</th>\n",
              "      <td>240.16</td>\n",
              "      <td>239.485471</td>\n",
              "    </tr>\n",
              "    <tr>\n",
              "      <th>2008-07-21 18:00:00</th>\n",
              "      <td>239.76</td>\n",
              "      <td>240.154269</td>\n",
              "    </tr>\n",
              "    <tr>\n",
              "      <th>2008-07-21 18:01:00</th>\n",
              "      <td>239.97</td>\n",
              "      <td>239.760858</td>\n",
              "    </tr>\n",
              "    <tr>\n",
              "      <th>2008-07-21 18:02:00</th>\n",
              "      <td>240.22</td>\n",
              "      <td>239.967399</td>\n",
              "    </tr>\n",
              "  </tbody>\n",
              "</table>\n",
              "</div>"
            ],
            "text/plain": [
              "                     y_test  y_pred_test\n",
              "DateTime                                \n",
              "2008-07-21 17:53:00  239.55   239.485471\n",
              "2008-07-21 17:54:00  239.63   239.554318\n",
              "2008-07-21 17:55:00  239.41   239.633000\n",
              "2008-07-21 17:56:00  239.45   239.416624\n",
              "2008-07-21 17:57:00  239.46   239.455965\n",
              "2008-07-21 17:58:00  239.48   239.465800\n",
              "2008-07-21 17:59:00  240.16   239.485471\n",
              "2008-07-21 18:00:00  239.76   240.154269\n",
              "2008-07-21 18:01:00  239.97   239.760858\n",
              "2008-07-21 18:02:00  240.22   239.967399"
            ]
          },
          "execution_count": 41,
          "metadata": {},
          "output_type": "execute_result"
        }
      ],
      "source": [
        "df_pred_test = pd.DataFrame({\"y_test\":y_test ,\"y_pred_test\":model_reg.predict(X_test)})\n",
        "df_pred_test.head(10)"
      ]
    }
  ],
  "metadata": {
    "kernelspec": {
      "display_name": "Python 3",
      "language": "python",
      "name": "python3"
    },
    "language_info": {
      "codemirror_mode": {
        "name": "ipython",
        "version": 3
      },
      "file_extension": ".py",
      "mimetype": "text/x-python",
      "name": "python",
      "nbconvert_exporter": "python",
      "pygments_lexer": "ipython3",
      "version": "3.7.0"
    },
    "colab": {
      "provenance": [],
      "include_colab_link": true
    }
  },
  "nbformat": 4,
  "nbformat_minor": 0
}